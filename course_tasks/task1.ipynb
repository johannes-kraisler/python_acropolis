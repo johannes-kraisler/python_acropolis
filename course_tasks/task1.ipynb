{
 "cells": [
  {
   "cell_type": "code",
   "execution_count": 1,
   "metadata": {},
   "outputs": [
    {
     "name": "stdout",
     "output_type": "stream",
     "text": [
      "True\n"
     ]
    }
   ],
   "source": [
    "n=3\n",
    "numbers = []\n",
    "for i in range(n):\n",
    "    num=int(input(\"Write the number \"))\n",
    "    numbers.append(num)\n",
    "    \n",
    "c=max(numbers)\n",
    "a=min(numbers)\n",
    "\n",
    "b=[i for i in numbers if i != c and i != a]\n",
    "\n",
    "\n",
    "def pythagoras(a,b,c):\n",
    "\n",
    "   \n",
    "    if a**2+b[0]**2==c**2:\n",
    "        return True\n",
    "    return False\n",
    "\n",
    "print(pythagoras(a,b,c))\n",
    "\n"
   ]
  },
  {
   "attachments": {},
   "cell_type": "markdown",
   "metadata": {},
   "source": [
    "\"\"\"Створіть функцію, яка прийматиме масив несортованих чисел і поверне boolean\n",
    "значення залежно від того, чи можна із заданих значень скласти піфагорів\n",
    "трикутник з відповідними довжинами сторін.\n",
    "\n",
    "Тести:\n",
    "[5, 3, 4] -> True\n",
    "[6, 8, 10] -> True\n",
    "[100, 3, 65] -> False\n",
    "\"\"\"\n"
   ]
  }
 ],
 "metadata": {
  "kernelspec": {
   "display_name": "Python 3",
   "language": "python",
   "name": "python3"
  },
  "language_info": {
   "codemirror_mode": {
    "name": "ipython",
    "version": 3
   },
   "file_extension": ".py",
   "mimetype": "text/x-python",
   "name": "python",
   "nbconvert_exporter": "python",
   "pygments_lexer": "ipython3",
   "version": "3.10.6"
  },
  "orig_nbformat": 4
 },
 "nbformat": 4,
 "nbformat_minor": 2
}
