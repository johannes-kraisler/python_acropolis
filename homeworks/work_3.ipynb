{
 "cells": [
  {
   "cell_type": "code",
   "execution_count": 1,
   "metadata": {},
   "outputs": [
    {
     "name": "stdout",
     "output_type": "stream",
     "text": [
      "['ana', 'ben', 'ira']\n",
      "['55', '67', '79']\n",
      "ana 55 Failed\n",
      "ben 67 Passed\n",
      "ira 79 Passed\n"
     ]
    }
   ],
   "source": [
    "num_students = 3\n",
    "students_names = []\n",
    "\n",
    "\n",
    "for i in range (1, num_students + 1):\n",
    "    student = input (\"What is the name\")\n",
    "    students_names.append(student)\n",
    "\n",
    "print(students_names)\n",
    "\n",
    "\n",
    "num_marks = 3\n",
    "marks = []\n",
    "\n",
    "for i in range (1, num_marks + 1):\n",
    "    mark = input (\"What is the mark?\")\n",
    "    marks.append(mark)\n",
    "print (marks)\n",
    "\n",
    "\n",
    "threshold = 60\n",
    "\n",
    "result = [\"Passed\" if int(mark) >= threshold else \"Failed\" for mark in marks]\n",
    "\n",
    "\n",
    "for student, mark, result in zip(students_names, marks, result):\n",
    "    print (student, mark, result)"
   ]
  }
 ],
 "metadata": {
  "kernelspec": {
   "display_name": "Python 3",
   "language": "python",
   "name": "python3"
  },
  "language_info": {
   "codemirror_mode": {
    "name": "ipython",
    "version": 3
   },
   "file_extension": ".py",
   "mimetype": "text/x-python",
   "name": "python",
   "nbconvert_exporter": "python",
   "pygments_lexer": "ipython3",
   "version": "3.10.6"
  },
  "orig_nbformat": 4
 },
 "nbformat": 4,
 "nbformat_minor": 2
}
